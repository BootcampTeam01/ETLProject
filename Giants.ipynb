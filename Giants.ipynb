{
 "cells": [
  {
   "cell_type": "code",
   "execution_count": 1,
   "metadata": {},
   "outputs": [],
   "source": [
    "import os\n",
    "from bs4 import BeautifulSoup\n",
    "from splinter import Browser\n",
    "import requests\n",
    "from selenium import webdriver\n",
    "import pandas as pd\n",
    "import pymongo\n",
    "import json\n",
    "from bson import json_util\n",
    "from selenium import webdriver"
   ]
  },
  {
   "cell_type": "code",
   "execution_count": 2,
   "metadata": {},
   "outputs": [],
   "source": [
    "# Initialize PyMongo to work with MongoDBs\n",
    "conn = 'mongodb://localhost:27017'\n",
    "client = pymongo.MongoClient(conn)"
   ]
  },
  {
   "cell_type": "code",
   "execution_count": 3,
   "metadata": {},
   "outputs": [],
   "source": [
    "# Define database and collection\n",
    "db = client.giants_db\n",
    "collection = db.players"
   ]
  },
  {
   "cell_type": "code",
   "execution_count": 4,
   "metadata": {},
   "outputs": [
    {
     "name": "stdout",
     "output_type": "stream",
     "text": [
      "/usr/local/bin/chromedriver\r\n"
     ]
    }
   ],
   "source": [
    "#https://splinter.readthedocs.io/en/latest/drivers/chrome.html\n",
    "!which chromedriver"
   ]
  },
  {
   "cell_type": "code",
   "execution_count": 5,
   "metadata": {},
   "outputs": [],
   "source": [
    "executable_path = {'executable_path': '/usr/local/bin/chromedriver'}\n",
    "browser = Browser('chrome', **executable_path, headless=False)"
   ]
  },
  {
   "cell_type": "code",
   "execution_count": 6,
   "metadata": {},
   "outputs": [],
   "source": [
    "url = \"http://mlb.mlb.com/stats/sortable.jsp\"\n",
    "browser.visit(url)\n",
    "\n"
   ]
  },
  {
   "cell_type": "code",
   "execution_count": null,
   "metadata": {},
   "outputs": [],
   "source": []
  },
  {
   "cell_type": "code",
   "execution_count": 11,
   "metadata": {},
   "outputs": [
    {
     "name": "stdout",
     "output_type": "stream",
     "text": [
      "[{'name': '\\xa0Law, D', 'position': 'P', 'Games_played': '7', 'At_Bat': '1', 'Hits': '1', 'Average': '1.000', 'Player_reaches_base': '1.000'}, {'name': '\\xa0Jones, R', 'position': '3B', 'Games_played': '5', 'At_Bat': '8', 'Hits': '3', 'Average': '.375', 'Player_reaches_base': '.375'}, {'name': '\\xa0Garcia, A', 'position': 'C', 'Games_played': '19', 'At_Bat': '63', 'Hits': '18', 'Average': '.286', 'Player_reaches_base': '.308'}, {'name': '\\xa0Posey, B', 'position': 'C', 'Games_played': '105', 'At_Bat': '398', 'Hits': '113', 'Average': '.284', 'Player_reaches_base': '.359'}, {'name': '\\xa0Avelino, A', 'position': 'SS', 'Games_played': '6', 'At_Bat': '11', 'Hits': '3', 'Average': '.273', 'Player_reaches_base': '.273'}, {'name': '\\xa0Gomez, M', 'position': '2B', 'Games_played': '9', 'At_Bat': '15', 'Hits': '4', 'Average': '.267', 'Player_reaches_base': '.267'}, {'name': '\\xa0Duggar, S', 'position': 'CF', 'Games_played': '41', 'At_Bat': '141', 'Hits': '36', 'Average': '.255', 'Player_reaches_base': '.303'}, {'name': '\\xa0McCutchen, A', 'position': 'RF', 'Games_played': '130', 'At_Bat': '482', 'Hits': '123', 'Average': '.255', 'Player_reaches_base': '.357'}, {'name': '\\xa0Crawford, B', 'position': 'SS', 'Games_played': '151', 'At_Bat': '531', 'Hits': '135', 'Average': '.254', 'Player_reaches_base': '.325'}, {'name': '\\xa0Panik, J', 'position': '2B', 'Games_played': '102', 'At_Bat': '358', 'Hits': '91', 'Average': '.254', 'Player_reaches_base': '.307'}, {'name': '\\xa0Belt, B', 'position': '1B', 'Games_played': '112', 'At_Bat': '399', 'Hits': '101', 'Average': '.253', 'Player_reaches_base': '.342'}, {'name': '\\xa0Hanson, A', 'position': '2B', 'Games_played': '110', 'At_Bat': '294', 'Hits': '74', 'Average': '.252', 'Player_reaches_base': '.274'}, {'name': '\\xa0Slater, A', 'position': 'LF', 'Games_played': '74', 'At_Bat': '199', 'Hits': '50', 'Average': '.251', 'Player_reaches_base': '.333'}, {'name': '\\xa0Sandoval, P', 'position': '3B', 'Games_played': '92', 'At_Bat': '230', 'Hits': '57', 'Average': '.248', 'Player_reaches_base': '.310'}, {'name': '\\xa0Longoria, E', 'position': '3B', 'Games_played': '125', 'At_Bat': '480', 'Hits': '117', 'Average': '.244', 'Player_reaches_base': '.281'}, {'name': '\\xa0Jackson, A', 'position': 'CF', 'Games_played': '59', 'At_Bat': '149', 'Hits': '36', 'Average': '.242', 'Player_reaches_base': '.309'}, {'name': '\\xa0Hundley, N', 'position': 'C', 'Games_played': '96', 'At_Bat': '282', 'Hits': '68', 'Average': '.241', 'Player_reaches_base': '.298'}, {'name': '\\xa0Hernandez, G', 'position': 'CF', 'Games_played': '142', 'At_Bat': '414', 'Hits': '97', 'Average': '.234', 'Player_reaches_base': '.285'}, {'name': '\\xa0Pence, H', 'position': 'LF', 'Games_played': '97', 'At_Bat': '235', 'Hits': '53', 'Average': '.226', 'Player_reaches_base': '.258'}, {'name': '\\xa0Blanco, G', 'position': 'CF', 'Games_played': '68', 'At_Bat': '189', 'Hits': '41', 'Average': '.217', 'Player_reaches_base': '.262'}, {'name': \"\\xa0d'Arnaud, C\", 'position': '3B', 'Games_played': '42', 'At_Bat': '93', 'Hits': '20', 'Average': '.215', 'Player_reaches_base': '.253'}, {'name': '\\xa0Williamson, M', 'position': 'RF', 'Games_played': '28', 'At_Bat': '94', 'Hits': '20', 'Average': '.213', 'Player_reaches_base': '.295'}, {'name': '\\xa0Tomlinson, K', 'position': 'SS', 'Games_played': '63', 'At_Bat': '140', 'Hits': '29', 'Average': '.207', 'Player_reaches_base': '.265'}, {'name': '\\xa0Shaw, C', 'position': 'LF', 'Games_played': '22', 'At_Bat': '54', 'Hits': '10', 'Average': '.185', 'Player_reaches_base': '.274'}, {'name': '\\xa0Bumgarner, M', 'position': 'P', 'Games_played': '21', 'At_Bat': '44', 'Hits': '7', 'Average': '.159', 'Player_reaches_base': '.174'}, {'name': '\\xa0Stratton, C', 'position': 'P', 'Games_played': '28', 'At_Bat': '43', 'Hits': '6', 'Average': '.140', 'Player_reaches_base': '.136'}, {'name': '\\xa0Samardzija, J', 'position': 'P', 'Games_played': '8', 'At_Bat': '10', 'Hits': '1', 'Average': '.100', 'Player_reaches_base': '.100'}, {'name': '\\xa0Rodriguez, D', 'position': 'P', 'Games_played': '20', 'At_Bat': '32', 'Hits': '3', 'Average': '.094', 'Player_reaches_base': '.094'}, {'name': '\\xa0Suarez, A', 'position': 'P', 'Games_played': '27', 'At_Bat': '47', 'Hits': '3', 'Average': '.064', 'Player_reaches_base': '.102'}, {'name': '\\xa0Holland, D', 'position': 'P', 'Games_played': '34', 'At_Bat': '53', 'Hits': '3', 'Average': '.057', 'Player_reaches_base': '.074'}, {'name': '\\xa0Blach, T', 'position': 'P', 'Games_played': '49', 'At_Bat': '29', 'Hits': '1', 'Average': '.034', 'Player_reaches_base': '.097'}, {'name': '\\xa0Beede, T', 'position': 'P', 'Games_played': '2', 'At_Bat': '2', 'Hits': '0', 'Average': '.000', 'Player_reaches_base': '.000'}, {'name': '\\xa0Cueto, J', 'position': 'P', 'Games_played': '7', 'At_Bat': '12', 'Hits': '0', 'Average': '.000', 'Player_reaches_base': '.000'}, {'name': '\\xa0Gomez, R', 'position': 'P', 'Games_played': '5', 'At_Bat': '2', 'Hits': '0', 'Average': '.000', 'Player_reaches_base': '.000'}, {'name': '\\xa0Johnson, P', 'position': 'P', 'Games_played': '35', 'At_Bat': '1', 'Hits': '0', 'Average': '.000', 'Player_reaches_base': '.000'}, {'name': '\\xa0Kelly, C', 'position': 'P', 'Games_played': '7', 'At_Bat': '4', 'Hits': '0', 'Average': '.000', 'Player_reaches_base': '.000'}, {'name': '\\xa0Moronta, R', 'position': 'P', 'Games_played': '63', 'At_Bat': '1', 'Hits': '0', 'Average': '.000', 'Player_reaches_base': '.000'}, {'name': '\\xa0Snelten, D', 'position': 'P', 'Games_played': '4', 'At_Bat': '1', 'Hits': '0', 'Average': '.000', 'Player_reaches_base': '.000'}, {'name': '\\xa0Black, R', 'position': 'P', 'Games_played': '23', 'At_Bat': '0', 'Hits': '0', 'Average': '.---', 'Player_reaches_base': '.---'}, {'name': '\\xa0Dyson, S', 'position': 'P', 'Games_played': '69', 'At_Bat': '0', 'Hits': '0', 'Average': '.---', 'Player_reaches_base': '.---'}, {'name': '\\xa0Gearrin, C', 'position': 'P', 'Games_played': '32', 'At_Bat': '0', 'Hits': '0', 'Average': '.---', 'Player_reaches_base': '.---'}, {'name': '\\xa0Melancon, M', 'position': 'P', 'Games_played': '39', 'At_Bat': '0', 'Hits': '0', 'Average': '.---', 'Player_reaches_base': '.---'}, {'name': '\\xa0Okert, S', 'position': 'P', 'Games_played': '10', 'At_Bat': '0', 'Hits': '0', 'Average': '.---', 'Player_reaches_base': '.---'}, {'name': '\\xa0Osich, J', 'position': 'P', 'Games_played': '10', 'At_Bat': '0', 'Hits': '0', 'Average': '.---', 'Player_reaches_base': '.---'}, {'name': '\\xa0Smith, W', 'position': 'P', 'Games_played': '51', 'At_Bat': '0', 'Hits': '0', 'Average': '.---', 'Player_reaches_base': '.---'}, {'name': '\\xa0Strickland, H', 'position': 'P', 'Games_played': '48', 'At_Bat': '0', 'Hits': '0', 'Average': '.---', 'Player_reaches_base': '.---'}, {'name': '\\xa0Valdez, J', 'position': 'P', 'Games_played': '4', 'At_Bat': '0', 'Hits': '0', 'Average': '.---', 'Player_reaches_base': '.---'}, {'name': '\\xa0Watson, T', 'position': 'P', 'Games_played': '67', 'At_Bat': '0', 'Hits': '0', 'Average': '.---', 'Player_reaches_base': '.---'}]\n"
     ]
    }
   ],
   "source": [
    "# for x in range(40):\n",
    "# HTML object\n",
    "html = browser.html\n",
    "# Parse HTML with Beautiful Soup\n",
    "soup = BeautifulSoup(html, 'html.parser')\n",
    "\n",
    "# Retrieve all elements that contain book information\n",
    "# table = soup.find('table', class_=\"stats_table data_grid\")    # THIS IS YOUR OLD CODE\n",
    "table = soup.find('table', class_=\"stats_table data_grid\").find('tbody')\n",
    "\n",
    "\n",
    "players = []\n",
    "# rowcount = 0    # DEBUGGING\n",
    "for tr in table:\n",
    "#    print(f\"****************** ROW {rowcount} *************\")    # DEBUGGING\n",
    "#    rowcount += 1    # DEBUGGING\n",
    "   tds = tr.find_all(\"td\")\n",
    "\n",
    "#    print(tds[0].get_text())   # DEBUGGING\n",
    "   player = {}\n",
    "#    tdcount=0    # DEBUGGING\n",
    "   for td in tds:\n",
    "#        print(f\"-----------------TD {tdcount} -----------------------\")    # DEBUGGING\n",
    "#        tdcount +=1   # DEBUGGING\n",
    "#        print(td.get_text(), td['class'][0])   # DEBUGGING\n",
    "       cls = td['class'][0]\n",
    "       if cls == 'dg-name_display_last_init':\n",
    "            player.update(name = td.text)\n",
    "       if cls == 'dg-pos':\n",
    "           player.update(position = td.text)\n",
    "       if cls == 'dg-g':\n",
    "           player.update(Games_played = td.text)\n",
    "       if cls == 'dg-ab':\n",
    "           player.update(At_Bat = td.text)\n",
    "       if cls == 'dg-h':\n",
    "           player.update(Hits = td.text)\n",
    "       if cls == 'dg-avg':\n",
    "           player.update(Average = td.text)\n",
    "       if cls == 'dg-obp':\n",
    "           player.update(Player_reaches_base = td.text)\n",
    "   if len(player) > 0:\n",
    "       players.append(player)\n",
    "   player = {}\n",
    "print(players)# DEBUGGING\n",
    "\n",
    "\n",
    "\n",
    "data = pd.DataFrame.from_dict(players, orient='columns')\n",
    "\n",
    "\n"
   ]
  },
  {
   "cell_type": "code",
   "execution_count": 12,
   "metadata": {},
   "outputs": [
    {
     "name": "stdout",
     "output_type": "stream",
     "text": [
      "   At_Bat Average Games_played Hits Player_reaches_base            name  \\\n",
      "0       1   1.000            7    1               1.000          Law, D   \n",
      "1       8    .375            5    3                .375        Jones, R   \n",
      "2      63    .286           19   18                .308       Garcia, A   \n",
      "3     398    .284          105  113                .359        Posey, B   \n",
      "4      11    .273            6    3                .273      Avelino, A   \n",
      "5      15    .267            9    4                .267        Gomez, M   \n",
      "6     141    .255           41   36                .303       Duggar, S   \n",
      "7     482    .255          130  123                .357    McCutchen, A   \n",
      "8     531    .254          151  135                .325     Crawford, B   \n",
      "9     358    .254          102   91                .307        Panik, J   \n",
      "10    399    .253          112  101                .342         Belt, B   \n",
      "11    294    .252          110   74                .274       Hanson, A   \n",
      "12    199    .251           74   50                .333       Slater, A   \n",
      "13    230    .248           92   57                .310     Sandoval, P   \n",
      "14    480    .244          125  117                .281     Longoria, E   \n",
      "15    149    .242           59   36                .309      Jackson, A   \n",
      "16    282    .241           96   68                .298      Hundley, N   \n",
      "17    414    .234          142   97                .285    Hernandez, G   \n",
      "18    235    .226           97   53                .258        Pence, H   \n",
      "19    189    .217           68   41                .262       Blanco, G   \n",
      "20     93    .215           42   20                .253     d'Arnaud, C   \n",
      "21     94    .213           28   20                .295   Williamson, M   \n",
      "22    140    .207           63   29                .265    Tomlinson, K   \n",
      "23     54    .185           22   10                .274         Shaw, C   \n",
      "24     44    .159           21    7                .174    Bumgarner, M   \n",
      "25     43    .140           28    6                .136     Stratton, C   \n",
      "26     10    .100            8    1                .100   Samardzija, J   \n",
      "27     32    .094           20    3                .094    Rodriguez, D   \n",
      "28     47    .064           27    3                .102       Suarez, A   \n",
      "29     53    .057           34    3                .074      Holland, D   \n",
      "30     29    .034           49    1                .097        Blach, T   \n",
      "31      2    .000            2    0                .000        Beede, T   \n",
      "32     12    .000            7    0                .000        Cueto, J   \n",
      "33      2    .000            5    0                .000        Gomez, R   \n",
      "34      1    .000           35    0                .000      Johnson, P   \n",
      "35      4    .000            7    0                .000        Kelly, C   \n",
      "36      1    .000           63    0                .000      Moronta, R   \n",
      "37      1    .000            4    0                .000      Snelten, D   \n",
      "38      0    .---           23    0                .---        Black, R   \n",
      "39      0    .---           69    0                .---        Dyson, S   \n",
      "40      0    .---           32    0                .---      Gearrin, C   \n",
      "41      0    .---           39    0                .---     Melancon, M   \n",
      "42      0    .---           10    0                .---        Okert, S   \n",
      "43      0    .---           10    0                .---        Osich, J   \n",
      "44      0    .---           51    0                .---        Smith, W   \n",
      "45      0    .---           48    0                .---   Strickland, H   \n",
      "46      0    .---            4    0                .---       Valdez, J   \n",
      "47      0    .---           67    0                .---       Watson, T   \n",
      "\n",
      "   position  \n",
      "0         P  \n",
      "1        3B  \n",
      "2         C  \n",
      "3         C  \n",
      "4        SS  \n",
      "5        2B  \n",
      "6        CF  \n",
      "7        RF  \n",
      "8        SS  \n",
      "9        2B  \n",
      "10       1B  \n",
      "11       2B  \n",
      "12       LF  \n",
      "13       3B  \n",
      "14       3B  \n",
      "15       CF  \n",
      "16        C  \n",
      "17       CF  \n",
      "18       LF  \n",
      "19       CF  \n",
      "20       3B  \n",
      "21       RF  \n",
      "22       SS  \n",
      "23       LF  \n",
      "24        P  \n",
      "25        P  \n",
      "26        P  \n",
      "27        P  \n",
      "28        P  \n",
      "29        P  \n",
      "30        P  \n",
      "31        P  \n",
      "32        P  \n",
      "33        P  \n",
      "34        P  \n",
      "35        P  \n",
      "36        P  \n",
      "37        P  \n",
      "38        P  \n",
      "39        P  \n",
      "40        P  \n",
      "41        P  \n",
      "42        P  \n",
      "43        P  \n",
      "44        P  \n",
      "45        P  \n",
      "46        P  \n",
      "47        P  \n"
     ]
    }
   ],
   "source": [
    "print(data)"
   ]
  },
  {
   "cell_type": "code",
   "execution_count": 19,
   "metadata": {},
   "outputs": [
    {
     "data": {
      "text/plain": [
       "list"
      ]
     },
     "execution_count": 19,
     "metadata": {},
     "output_type": "execute_result"
    }
   ],
   "source": [
    "records = json.loads(data.to_json(orient='records'))\n",
    "type(records)\n",
    "\n",
    "\n",
    "#mongoImp = collection.insert_many(jArray)\n"
   ]
  },
  {
   "cell_type": "code",
   "execution_count": 20,
   "metadata": {},
   "outputs": [
    {
     "data": {
      "text/plain": [
       "<pymongo.results.InsertManyResult at 0x1231b7ac8>"
      ]
     },
     "execution_count": 20,
     "metadata": {},
     "output_type": "execute_result"
    }
   ],
   "source": [
    "#insert into database\n",
    "collection.insert_many(records)"
   ]
  },
  {
   "cell_type": "code",
   "execution_count": 18,
   "metadata": {},
   "outputs": [
    {
     "ename": "AttributeError",
     "evalue": "'list' object has no attribute 'delete'",
     "output_type": "error",
     "traceback": [
      "\u001b[0;31m---------------------------------------------------------------------------\u001b[0m",
      "\u001b[0;31mAttributeError\u001b[0m                            Traceback (most recent call last)",
      "\u001b[0;32m<ipython-input-18-683372d50cd1>\u001b[0m in \u001b[0;36m<module>\u001b[0;34m\u001b[0m\n\u001b[0;32m----> 1\u001b[0;31m \u001b[0mrecords\u001b[0m\u001b[0;34m.\u001b[0m\u001b[0mdelete\u001b[0m\u001b[0;34m(\u001b[0m\u001b[0;34m{\u001b[0m\u001b[0;34m}\u001b[0m\u001b[0;34m)\u001b[0m\u001b[0;34m\u001b[0m\u001b[0m\n\u001b[0m",
      "\u001b[0;31mAttributeError\u001b[0m: 'list' object has no attribute 'delete'"
     ]
    }
   ],
   "source": [
    "#records.delete({})"
   ]
  },
  {
   "cell_type": "code",
   "execution_count": null,
   "metadata": {},
   "outputs": [],
   "source": []
  }
 ],
 "metadata": {
  "kernelspec": {
   "display_name": "Python 3",
   "language": "python",
   "name": "python3"
  },
  "language_info": {
   "codemirror_mode": {
    "name": "ipython",
    "version": 3
   },
   "file_extension": ".py",
   "mimetype": "text/x-python",
   "name": "python",
   "nbconvert_exporter": "python",
   "pygments_lexer": "ipython3",
   "version": "3.6.6"
  }
 },
 "nbformat": 4,
 "nbformat_minor": 2
}
